{
 "cells": [
  {
   "cell_type": "code",
   "execution_count": 1,
   "id": "e31aee37-94ad-45f4-8e50-316ecdf1048d",
   "metadata": {},
   "outputs": [
    {
     "name": "stdin",
     "output_type": "stream",
     "text": [
      "Please input your value of I (Current):  5\n",
      "Please input your value of R (Resistance):  3\n"
     ]
    },
    {
     "name": "stdout",
     "output_type": "stream",
     "text": [
      "V (Voltage) = I (Current) * R (Resistance)\n",
      "V (Voltage) = 15\n"
     ]
    }
   ],
   "source": [
    "current = input(\"Please input your value of I (Current): \")\n",
    "resistance = input(\"Please input your value of R (Resistance): \")\n",
    "print(f'V (Voltage) = I (Current) * R (Resistance)')\n",
    "print(f'V (Voltage) = {int(current)*int(resistance)}')"
   ]
  },
  {
   "cell_type": "code",
   "execution_count": null,
   "id": "f2f194d4-0fb0-4471-a947-955ef80fc730",
   "metadata": {},
   "outputs": [],
   "source": []
  },
  {
   "cell_type": "code",
   "execution_count": 2,
   "id": "64c3aa49-3eb8-4d50-a474-6dc0c239b223",
   "metadata": {},
   "outputs": [
    {
     "name": "stdin",
     "output_type": "stream",
     "text": [
      "Please input your value of I (Current) in amps:  5\n",
      "Please input your value of R (Resistance) in ohms:  69\n"
     ]
    }
   ],
   "source": [
    "current_str = input(\"Please input your value of I (Current) in amps: \")\n",
    "resistance_str = input(\"Please input your value of R (Resistance) in ohms: \")\n",
    "\n",
    "current = int(current_str)\n",
    "resistance = int(resistance_str)"
   ]
  },
  {
   "cell_type": "code",
   "execution_count": 3,
   "id": "3f71148f-ddbb-43d6-a3c9-96d5ab3569e4",
   "metadata": {},
   "outputs": [
    {
     "name": "stdout",
     "output_type": "stream",
     "text": [
      "V (Voltage) = I (Current) * R (Resistance)\n",
      "V (Voltage) = 345 volts\n"
     ]
    }
   ],
   "source": [
    "print(f'V (Voltage) = I (Current) * R (Resistance)')\n",
    "\n",
    "# Calculate and print the voltage\n",
    "voltage = current * resistance\n",
    "print(f'V (Voltage) = {voltage} volts')"
   ]
  },
  {
   "cell_type": "code",
   "execution_count": null,
   "id": "832d2ad1-3157-45f2-9be4-68974f555863",
   "metadata": {},
   "outputs": [],
   "source": []
  },
  {
   "cell_type": "code",
   "execution_count": null,
   "id": "283a1ec0-9036-4fa5-a0c6-71706ff2c1b1",
   "metadata": {},
   "outputs": [],
   "source": []
  }
 ],
 "metadata": {
  "kernelspec": {
   "display_name": "Python 3 (ipykernel)",
   "language": "python",
   "name": "python3"
  },
  "language_info": {
   "codemirror_mode": {
    "name": "ipython",
    "version": 3
   },
   "file_extension": ".py",
   "mimetype": "text/x-python",
   "name": "python",
   "nbconvert_exporter": "python",
   "pygments_lexer": "ipython3",
   "version": "3.9.0"
  }
 },
 "nbformat": 4,
 "nbformat_minor": 5
}
